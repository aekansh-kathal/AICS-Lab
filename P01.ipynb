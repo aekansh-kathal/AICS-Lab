{
  "nbformat": 4,
  "nbformat_minor": 0,
  "metadata": {
    "colab": {
      "provenance": [],
      "collapsed_sections": [],
      "authorship_tag": "ABX9TyPUZu5ciG83qtmtUH2/Vroo",
      "include_colab_link": true
    },
    "kernelspec": {
      "name": "python3",
      "display_name": "Python 3"
    },
    "language_info": {
      "name": "python"
    }
  },
  "cells": [
    {
      "cell_type": "markdown",
      "metadata": {
        "id": "view-in-github",
        "colab_type": "text"
      },
      "source": [
        "<a href=\"https://colab.research.google.com/github/aekansh-kathal/AICS-Lab/blob/main/P01.ipynb\" target=\"_parent\"><img src=\"https://colab.research.google.com/assets/colab-badge.svg\" alt=\"Open In Colab\"/></a>"
      ]
    },
    {
      "cell_type": "code",
      "execution_count": null,
      "metadata": {
        "id": "_ACWe3Qf_Ee5",
        "outputId": "21fea5f2-159f-4af4-bd3e-0fda429925f7",
        "colab": {
          "base_uri": "https://localhost:8080/"
        }
      },
      "outputs": [
        {
          "output_type": "stream",
          "name": "stdout",
          "text": [
            "Dictionary:  {1: 'One', 2: 'Two', 3: 'Three'} \n",
            " List:  [1, 2, 3] \n",
            " Tuple:  (1, 2, 3)\n"
          ]
        }
      ],
      "source": [
        "dict1={1: 'One', 2: 'Two',3: 'Three'}\n",
        "list1=[1, 2, 3]\n",
        "tuple1=(1, 2, 3)\n",
        "print(\"Dictionary: \", dict1, \"\\n\", \"List: \", list1, \"\\n\", \"Tuple: \", tuple1)"
      ]
    }
  ]
}