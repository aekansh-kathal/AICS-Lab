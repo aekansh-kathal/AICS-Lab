{
  "nbformat": 4,
  "nbformat_minor": 0,
  "metadata": {
    "colab": {
      "provenance": [],
      "collapsed_sections": [],
      "authorship_tag": "ABX9TyPftqRya0JwVk9X38kjplvF",
      "include_colab_link": true
    },
    "kernelspec": {
      "name": "python3",
      "display_name": "Python 3"
    },
    "language_info": {
      "name": "python"
    }
  },
  "cells": [
    {
      "cell_type": "markdown",
      "metadata": {
        "id": "view-in-github",
        "colab_type": "text"
      },
      "source": [
        "<a href=\"https://colab.research.google.com/github/aekansh-kathal/AICS-Lab/blob/main/Basic_Operations_(list%2C_dict).ipynb\" target=\"_parent\"><img src=\"https://colab.research.google.com/assets/colab-badge.svg\" alt=\"Open In Colab\"/></a>"
      ]
    },
    {
      "cell_type": "code",
      "execution_count": 4,
      "metadata": {
        "colab": {
          "base_uri": "https://localhost:8080/"
        },
        "id": "_ATjZbwoa3tJ",
        "outputId": "05b89fcf-8799-4726-d6d6-9ad6f8f65aa4"
      },
      "outputs": [
        {
          "output_type": "stream",
          "name": "stdout",
          "text": [
            "Initial blank List:  []\n",
            "\n",
            "List after Addition of elements:  [1, 2, 3]\n",
            "\n",
            "Reversed list:  [3, 2, 1]\n",
            "\n",
            "List after Removal of an element:  [3, 1]\n"
          ]
        }
      ],
      "source": [
        "mylist = []\n",
        "print(\"Initial blank List: \", mylist)\n",
        "  \n",
        "# Addition of Elements in the List\n",
        "mylist.append(1)\n",
        "mylist.append(2)\n",
        "mylist.append(3)\n",
        "print(\"\\nList after Addition of elements: \", mylist)\n",
        "\n",
        "#Reversal\n",
        "mylist.reverse()\n",
        "print(\"\\nReversed list: \", mylist)\n",
        "\n",
        "#Removal\n",
        "mylist.remove(2)\n",
        "print(\"\\nList after Removal of an element: \", mylist)"
      ]
    },
    {
      "cell_type": "code",
      "source": [
        "mydict= {}\n",
        "print(\"Initial blank Disctionary: \", mydict)\n",
        "\n",
        "mydict={1: 'One', 2: 'Two', 3: 'Three'}\n",
        "print(\"\\nInitial Disctionary: \", mydict)\n",
        "\n",
        "#Removal\n",
        "mydict.pop(3)\n",
        "print(\"\\nRemoving last element: \", mydict)\n",
        "\n",
        "#UpdatingValue\n",
        "mydict2={2: 'NewTwo'}\n",
        "mydict.update(mydict2)\n",
        "print(\"\\nUpdating new values: \", mydict)\n",
        "\n",
        "#Clearing\n",
        "mydict.clear()\n",
        "print(\"\\nCleared Disctionary: \", mydict)"
      ],
      "metadata": {
        "colab": {
          "base_uri": "https://localhost:8080/"
        },
        "id": "-LYGpLkPbwmy",
        "outputId": "73c59d6d-fea0-445e-d343-6514e1b45c87"
      },
      "execution_count": 13,
      "outputs": [
        {
          "output_type": "stream",
          "name": "stdout",
          "text": [
            "Initial blank Disctionary:  {}\n",
            "\n",
            "Initial Disctionary:  {1: 'One', 2: 'Two', 3: 'Three'}\n",
            "\n",
            "Removing last element:  {1: 'One', 2: 'Two'}\n",
            "\n",
            "Updating new values:  {1: 'One', 2: 'NewTwo'}\n",
            "\n",
            "Cleared Disctionary:  {}\n"
          ]
        }
      ]
    }
  ]
}